{
  "nbformat": 4,
  "nbformat_minor": 0,
  "metadata": {
    "colab": {
      "provenance": [],
      "authorship_tag": "ABX9TyPwOG441aV9QokWV5+mzuEL",
      "include_colab_link": true
    },
    "kernelspec": {
      "name": "python3",
      "display_name": "Python 3"
    },
    "language_info": {
      "name": "python"
    }
  },
  "cells": [
    {
      "cell_type": "markdown",
      "metadata": {
        "id": "view-in-github",
        "colab_type": "text"
      },
      "source": [
        "<a href=\"https://colab.research.google.com/github/enjoyPG/SelfMachinelearning/blob/main/%ED%98%BC%EA%B3%B5_%EC%B1%95%ED%84%B01_3(%EC%83%9D%EC%84%A0_%EB%8D%B0%EC%9D%B4%ED%84%B0%EB%A1%9C_%EC%9E%85%EB%AC%B8).ipynb\" target=\"_parent\"><img src=\"https://colab.research.google.com/assets/colab-badge.svg\" alt=\"Open In Colab\"/></a>"
      ]
    },
    {
      "cell_type": "markdown",
      "source": [
        "https://www.w3schools.com/python/python_ml_scatterplot.asp"
      ],
      "metadata": {
        "id": "b432jTxxA6jO"
      }
    },
    {
      "cell_type": "markdown",
      "source": [
        "## 1-3\n",
        "FISH 마켓\n",
        "\n",
        "원본 데이터: https://www.kaggle.com/datasets/aungpyaeap/fish-market\n",
        "\n",
        "도미 간단 데이터: http://bit.ly/bream_list\n",
        "\n",
        "빙어 간단 데이터: http://bit.ly/smelt_list"
      ],
      "metadata": {
        "id": "tmazdRXS5src"
      }
    },
    {
      "cell_type": "code",
      "source": [
        "#bream은 도미, 도미 데이터 준비하기\n",
        "#bream_length, weight같은 것들을 특성이라 한다.\n",
        "#각 데이터들을 샘플이라 부른다.\n",
        "bream_length = [25.4, 26.3, 26.5, 29.0, 29.0, 29.7, 29.7, 30.0, 30.0, 30.7, 31.0, 31.0, \n",
        "                31.5, 32.0, 32.0, 32.0, 33.0, 33.0, 33.5, 33.5, 34.0, 34.0, 34.5, 35.0, \n",
        "                35.0, 35.0, 35.0, 36.0, 36.0, 37.0, 38.5, 38.5, 39.5, 41.0, 41.0]\n",
        "bream_weight = [242.0, 290.0, 340.0, 363.0, 430.0, 450.0, 500.0, 390.0, 450.0, 500.0, 475.0, 500.0, \n",
        "                500.0, 340.0, 600.0, 600.0, 700.0, 700.0, 610.0, 650.0, 575.0, 685.0, 620.0, 680.0, \n",
        "                700.0, 725.0, 720.0, 714.0, 850.0, 1000.0, 920.0, 955.0, 925.0, 975.0, 950.0]"
      ],
      "metadata": {
        "id": "KZE20yPJ6A-z"
      },
      "execution_count": null,
      "outputs": []
    },
    {
      "cell_type": "code",
      "execution_count": null,
      "metadata": {
        "colab": {
          "base_uri": "https://localhost:8080/",
          "height": 279
        },
        "id": "MsZNDji13Nyi",
        "outputId": "8f499c6a-fa1c-4c21-8165-6367a9e779f1"
      },
      "outputs": [
        {
          "output_type": "display_data",
          "data": {
            "text/plain": [
              "<Figure size 432x288 with 1 Axes>"
            ],
            "image/png": "[encoded data removed]"
          },
          "metadata": {
            "needs_background": "light"
          }
        }
      ],
      "source": [
        "#데이터들을 더 잘 살펴보기 위해 시각화가 필요한데, 그 중 산점도(scatter) 그래프를 그려보자.\n",
        "import matplotlib.pyplot as plt\n",
        "\n",
        "plt.scatter(bream_length, bream_weight)\n",
        "plt.xlabel('length')\n",
        "plt.ylabel('weight')\n",
        "plt.show()"
      ]
    },
    {
      "cell_type": "code",
      "source": [
        "#빙어 데이터 준비하기\n",
        "smelt_length = [9.8, 10.5, 10.6, 11.0, 11.2, 11.3, 11.8, 11.8, 12.0, 12.2, 12.4, 13.0, 14.3, 15.0]\n",
        "smelt_weight = [6.7, 7.5, 7.0, 9.7, 9.8, 8.7, 10.0, 9.9, 9.8, 12.2, 13.4, 12.2, 19.7, 19.9]"
      ],
      "metadata": {
        "id": "j-LGi5VK7Nr6"
      },
      "execution_count": null,
      "outputs": []
    },
    {
      "cell_type": "code",
      "source": [
        "#도미와 빙어 데이터를 한 그래프에 같이 나타냄\n",
        "plt.scatter(bream_length, bream_weight)\n",
        "plt.scatter(smelt_length, smelt_weight)\n",
        "plt.xlabel('length')\n",
        "plt.ylabel('weight')\n",
        "plt.show()"
      ],
      "metadata": {
        "colab": {
          "base_uri": "https://localhost:8080/",
          "height": 279
        },
        "id": "I5TdEIY67lC-",
        "outputId": "7541b629-6951-4e73-87b7-219db3c70cda"
      },
      "execution_count": null,
      "outputs": [
        {
          "output_type": "display_data",
          "data": {
            "text/plain": [
              "<Figure size 432x288 with 1 Axes>"
            ],
            "image/png": "[encoded data removed]"
          },
          "metadata": {
            "needs_background": "light"
          }
        }
      ]
    },
    {
      "cell_type": "code",
      "source": [
        "#데이터 전처리(fish_data와 fish_target 만들기)\n",
        "#fish_data\n",
        "#도미, 빙어 데이터 합치기\n",
        "length = bream_length + smelt_length\n",
        "weight = bream_length + smelt_weight\n",
        "print(length, weight)"
      ],
      "metadata": {
        "colab": {
          "base_uri": "https://localhost:8080/"
        },
        "id": "4VVpexWJ78PL",
        "outputId": "26b69a7f-4907-4db3-a71b-2647026435b2"
      },
      "execution_count": null,
      "outputs": [
        {
          "output_type": "stream",
          "name": "stdout",
          "text": [
            "[25.4, 26.3, 26.5, 29.0, 29.0, 29.7, 29.7, 30.0, 30.0, 30.7, 31.0, 31.0, 31.5, 32.0, 32.0, 32.0, 33.0, 33.0, 33.5, 33.5, 34.0, 34.0, 34.5, 35.0, 35.0, 35.0, 35.0, 36.0, 36.0, 37.0, 38.5, 38.5, 39.5, 41.0, 41.0, 9.8, 10.5, 10.6, 11.0, 11.2, 11.3, 11.8, 11.8, 12.0, 12.2, 12.4, 13.0, 14.3, 15.0] [25.4, 26.3, 26.5, 29.0, 29.0, 29.7, 29.7, 30.0, 30.0, 30.7, 31.0, 31.0, 31.5, 32.0, 32.0, 32.0, 33.0, 33.0, 33.5, 33.5, 34.0, 34.0, 34.5, 35.0, 35.0, 35.0, 35.0, 36.0, 36.0, 37.0, 38.5, 38.5, 39.5, 41.0, 41.0, 6.7, 7.5, 7.0, 9.7, 9.8, 8.7, 10.0, 9.9, 9.8, 12.2, 13.4, 12.2, 19.7, 19.9]\n"
          ]
        }
      ]
    },
    {
      "cell_type": "code",
      "source": [
        "#length와 weight를 리스트로 묶어서 학습할 수 있는 형태로 변환\n",
        "#zip 함수는 리스트에서 원소를 하나씩 꺼내주는 역할\n",
        "fish_data = [[l, w] for l,w in zip(length, weight)]\n",
        "print(fish_data)"
      ],
      "metadata": {
        "colab": {
          "base_uri": "https://localhost:8080/"
        },
        "id": "ctwHSyNT8TJU",
        "outputId": "8273d996-fa7f-41e2-daf9-f9f713dc10fe"
      },
      "execution_count": null,
      "outputs": [
        {
          "output_type": "stream",
          "name": "stdout",
          "text": [
            "[[25.4, 25.4], [26.3, 26.3], [26.5, 26.5], [29.0, 29.0], [29.0, 29.0], [29.7, 29.7], [29.7, 29.7], [30.0, 30.0], [30.0, 30.0], [30.7, 30.7], [31.0, 31.0], [31.0, 31.0], [31.5, 31.5], [32.0, 32.0], [32.0, 32.0], [32.0, 32.0], [33.0, 33.0], [33.0, 33.0], [33.5, 33.5], [33.5, 33.5], [34.0, 34.0], [34.0, 34.0], [34.5, 34.5], [35.0, 35.0], [35.0, 35.0], [35.0, 35.0], [35.0, 35.0], [36.0, 36.0], [36.0, 36.0], [37.0, 37.0], [38.5, 38.5], [38.5, 38.5], [39.5, 39.5], [41.0, 41.0], [41.0, 41.0], [9.8, 6.7], [10.5, 7.5], [10.6, 7.0], [11.0, 9.7], [11.2, 9.8], [11.3, 8.7], [11.8, 10.0], [11.8, 9.9], [12.0, 9.8], [12.2, 12.2], [12.4, 13.4], [13.0, 12.2], [14.3, 19.7], [15.0, 19.9]]\n"
          ]
        }
      ]
    },
    {
      "cell_type": "code",
      "source": [
        "#fish_target (레이블 데이터)\n",
        "#도미는 레이블을 1로주고 빙어는 0으로 주자\n",
        "#도미가 35개이고, 빙어가 14개이므로\n",
        "fish_target = [1]*35 + [0]*14\n",
        "print(fish_target)"
      ],
      "metadata": {
        "colab": {
          "base_uri": "https://localhost:8080/"
        },
        "id": "UtADQuo382I-",
        "outputId": "b04fcc00-00db-4469-c712-01f79ccaef46"
      },
      "execution_count": null,
      "outputs": [
        {
          "output_type": "stream",
          "name": "stdout",
          "text": [
            "[1, 1, 1, 1, 1, 1, 1, 1, 1, 1, 1, 1, 1, 1, 1, 1, 1, 1, 1, 1, 1, 1, 1, 1, 1, 1, 1, 1, 1, 1, 1, 1, 1, 1, 1, 0, 0, 0, 0, 0, 0, 0, 0, 0, 0, 0, 0, 0, 0]\n"
          ]
        }
      ]
    },
    {
      "cell_type": "code",
      "source": [
        "#첫 머신러닝 알고리즘 K-최근접 이웃 알고리즘 KNN(K-Nearest Neighbors) 사용하기\n",
        "from sklearn.neighbors import KNeighborsClassifier"
      ],
      "metadata": {
        "id": "AwLGiWnY7xn4"
      },
      "execution_count": null,
      "outputs": []
    },
    {
      "cell_type": "code",
      "source": [
        "kn =KNeighborsClassifier()\n",
        "#fit 명령어가 훈련 과정\n",
        "kn.fit(fish_data, fish_target)\n",
        "#score로 정확도 검증하기\n",
        "kn.score(fish_data, fish_target)"
      ],
      "metadata": {
        "colab": {
          "base_uri": "https://localhost:8080/"
        },
        "id": "3es376ZE-1_O",
        "outputId": "7daa6914-4eee-42f7-a251-5a02069687a0"
      },
      "execution_count": null,
      "outputs": [
        {
          "output_type": "execute_result",
          "data": {
            "text/plain": [
              "1.0"
            ]
          },
          "metadata": {},
          "execution_count": 27
        }
      ]
    },
    {
      "cell_type": "code",
      "source": [
        "# 새로운 데이터 길이 30, 무게 600은 어떻게 판단할 수 있을까?\n",
        "plt.scatter(bream_length, bream_weight)\n",
        "plt.scatter(smelt_length, smelt_weight)\n",
        "plt.scatter(30, 600, marker='x', color='red')\n",
        "plt.xlabel('length')\n",
        "plt.ylabel('weight')\n",
        "plt.show()"
      ],
      "metadata": {
        "colab": {
          "base_uri": "https://localhost:8080/",
          "height": 279
        },
        "id": "p4IZ1zT3-8HQ",
        "outputId": "082af1a9-02b0-4ff9-86db-7c5d341b2853"
      },
      "execution_count": null,
      "outputs": [
        {
          "output_type": "display_data",
          "data": {
            "text/plain": [
              "<Figure size 432x288 with 1 Axes>"
            ],
            "image/png": "[encoded data removed]"
          },
          "metadata": {
            "needs_background": "light"
          }
        }
      ]
    },
    {
      "cell_type": "code",
      "source": [
        "#새로운 데이터 길이 30, 무게 600인 생선은 학습한 AI가 도미(도미 레이블 1)라 판단하였다.\n",
        "kn.predict([[30,600]])"
      ],
      "metadata": {
        "colab": {
          "base_uri": "https://localhost:8080/"
        },
        "id": "coA-YZXyBhXS",
        "outputId": "42e008bf-c3b5-4c1f-ae80-5ee269f529fd"
      },
      "execution_count": null,
      "outputs": [
        {
          "output_type": "execute_result",
          "data": {
            "text/plain": [
              "array([1])"
            ]
          },
          "metadata": {},
          "execution_count": 44
        }
      ]
    },
    {
      "cell_type": "code",
      "source": [
        "#hyperParameter 수정\n",
        "#이웃의 수 전체 데이터 수인 49로 조정하기\n",
        "kn49 = KNeighborsClassifier(n_neighbors=49)\n",
        "kn49.fit(fish_data, fish_target)\n",
        "kn49.score(fish_data,fish_target)\n",
        "\n",
        "# => 데이터의 수는 총 49이므로 모든 이웃을 다 포함하는 형태이므로 도미의 수가 많으니 모두 도미로 판단하여 정확도 71.4퍼센트가 나오게 된다.\n",
        "# 즉, KNN에서는 이웃의 수를 정해주는게 가장 중요한 파라미터 튜닝이다."
      ],
      "metadata": {
        "colab": {
          "base_uri": "https://localhost:8080/"
        },
        "id": "Mg7E1O2JBzuK",
        "outputId": "477fcb32-ffb8-4e81-f390-3c8d3cbe720e"
      },
      "execution_count": null,
      "outputs": [
        {
          "output_type": "execute_result",
          "data": {
            "text/plain": [
              "0.7142857142857143"
            ]
          },
          "metadata": {},
          "execution_count": 46
        }
      ]
    },
    {
      "cell_type": "code",
      "source": [
        "#전체 생선의 수 대비 도미의 수 비율\n",
        "print(35/49)"
      ],
      "metadata": {
        "id": "mKB6waXYCv1n"
      },
      "execution_count": null,
      "outputs": []
    }
  ]
}